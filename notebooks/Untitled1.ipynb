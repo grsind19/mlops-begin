{
 "cells": [
  {
   "cell_type": "code",
   "execution_count": 3,
   "id": "a471e3ca-83fe-4a82-b39f-84fb8aa4ee4b",
   "metadata": {},
   "outputs": [
    {
     "ename": "TypeError",
     "evalue": "object of type 'int' has no len()",
     "output_type": "error",
     "traceback": [
      "\u001b[0;31m---------------------------------------------------------------------------\u001b[0m",
      "\u001b[0;31mTypeError\u001b[0m                                 Traceback (most recent call last)",
      "\u001b[0;32m/var/folders/0r/37bvsl0964n8ps99b_nzqdd40000gn/T/ipykernel_42319/3973440983.py\u001b[0m in \u001b[0;36m<module>\u001b[0;34m\u001b[0m\n\u001b[1;32m     59\u001b[0m \u001b[0;31m#     joblib.dump(loaded_model, model_path)\u001b[0m\u001b[0;34m\u001b[0m\u001b[0;34m\u001b[0m\u001b[0;34m\u001b[0m\u001b[0m\n\u001b[1;32m     60\u001b[0m \u001b[0;34m\u001b[0m\u001b[0m\n\u001b[0;32m---> 61\u001b[0;31m \u001b[0mlog_production_model\u001b[0m\u001b[0;34m(\u001b[0m\u001b[0;34m\"params.yaml\"\u001b[0m\u001b[0;34m)\u001b[0m\u001b[0;34m\u001b[0m\u001b[0;34m\u001b[0m\u001b[0m\n\u001b[0m",
      "\u001b[0;32m/var/folders/0r/37bvsl0964n8ps99b_nzqdd40000gn/T/ipykernel_42319/3973440983.py\u001b[0m in \u001b[0;36mlog_production_model\u001b[0;34m(config_path)\u001b[0m\n\u001b[1;32m     25\u001b[0m \u001b[0;34m\u001b[0m\u001b[0m\n\u001b[1;32m     26\u001b[0m \u001b[0;34m\u001b[0m\u001b[0m\n\u001b[0;32m---> 27\u001b[0;31m     \u001b[0mruns\u001b[0m \u001b[0;34m=\u001b[0m \u001b[0mmlflow\u001b[0m\u001b[0;34m.\u001b[0m\u001b[0msearch_runs\u001b[0m\u001b[0;34m(\u001b[0m\u001b[0mexperiment_ids\u001b[0m\u001b[0;34m=\u001b[0m\u001b[0;36m1\u001b[0m\u001b[0;34m)\u001b[0m\u001b[0;34m\u001b[0m\u001b[0;34m\u001b[0m\u001b[0m\n\u001b[0m\u001b[1;32m     28\u001b[0m     \u001b[0mlowest\u001b[0m \u001b[0;34m=\u001b[0m \u001b[0mruns\u001b[0m\u001b[0;34m[\u001b[0m\u001b[0;34m\"metrics.mae\"\u001b[0m\u001b[0;34m]\u001b[0m\u001b[0;34m.\u001b[0m\u001b[0msort_values\u001b[0m\u001b[0;34m(\u001b[0m\u001b[0mascending\u001b[0m\u001b[0;34m=\u001b[0m\u001b[0;32mTrue\u001b[0m\u001b[0;34m)\u001b[0m\u001b[0;34m[\u001b[0m\u001b[0;36m0\u001b[0m\u001b[0;34m]\u001b[0m\u001b[0;34m\u001b[0m\u001b[0;34m\u001b[0m\u001b[0m\n\u001b[1;32m     29\u001b[0m     \u001b[0mlowest_run_id\u001b[0m \u001b[0;34m=\u001b[0m \u001b[0mruns\u001b[0m\u001b[0;34m[\u001b[0m\u001b[0mruns\u001b[0m\u001b[0;34m[\u001b[0m\u001b[0;34m\"metrics.mae\"\u001b[0m\u001b[0;34m]\u001b[0m \u001b[0;34m==\u001b[0m \u001b[0mlowest\u001b[0m\u001b[0;34m]\u001b[0m\u001b[0;34m[\u001b[0m\u001b[0;34m\"run_id\"\u001b[0m\u001b[0;34m]\u001b[0m\u001b[0;34m[\u001b[0m\u001b[0;36m0\u001b[0m\u001b[0;34m]\u001b[0m\u001b[0;34m\u001b[0m\u001b[0;34m\u001b[0m\u001b[0m\n",
      "\u001b[0;32m~/opt/anaconda3/envs/wineq/lib/python3.7/site-packages/mlflow/tracking/fluent.py\u001b[0m in \u001b[0;36msearch_runs\u001b[0;34m(experiment_ids, filter_string, run_view_type, max_results, order_by, output_format, search_all_experiments)\u001b[0m\n\u001b[1;32m   1134\u001b[0m             \u001b[0mexp\u001b[0m\u001b[0;34m.\u001b[0m\u001b[0mexperiment_id\u001b[0m \u001b[0;32mfor\u001b[0m \u001b[0mexp\u001b[0m \u001b[0;32min\u001b[0m \u001b[0mlist_experiments\u001b[0m\u001b[0;34m(\u001b[0m\u001b[0mview_type\u001b[0m\u001b[0;34m=\u001b[0m\u001b[0mViewType\u001b[0m\u001b[0;34m.\u001b[0m\u001b[0mACTIVE_ONLY\u001b[0m\u001b[0;34m)\u001b[0m\u001b[0;34m\u001b[0m\u001b[0;34m\u001b[0m\u001b[0m\n\u001b[1;32m   1135\u001b[0m         ]\n\u001b[0;32m-> 1136\u001b[0;31m     \u001b[0;32melif\u001b[0m \u001b[0mexperiment_ids\u001b[0m \u001b[0;32mis\u001b[0m \u001b[0;32mNone\u001b[0m \u001b[0;32mor\u001b[0m \u001b[0mlen\u001b[0m\u001b[0;34m(\u001b[0m\u001b[0mexperiment_ids\u001b[0m\u001b[0;34m)\u001b[0m \u001b[0;34m==\u001b[0m \u001b[0;36m0\u001b[0m\u001b[0;34m:\u001b[0m\u001b[0;34m\u001b[0m\u001b[0;34m\u001b[0m\u001b[0m\n\u001b[0m\u001b[1;32m   1137\u001b[0m         \u001b[0mexperiment_ids\u001b[0m \u001b[0;34m=\u001b[0m \u001b[0m_get_experiment_id\u001b[0m\u001b[0;34m(\u001b[0m\u001b[0;34m)\u001b[0m\u001b[0;34m\u001b[0m\u001b[0;34m\u001b[0m\u001b[0m\n\u001b[1;32m   1138\u001b[0m \u001b[0;34m\u001b[0m\u001b[0m\n",
      "\u001b[0;31mTypeError\u001b[0m: object of type 'int' has no len()"
     ]
    }
   ],
   "source": [
    "from src.get_data import read_params\n",
    "import argparse\n",
    "import mlflow\n",
    "from mlflow.tracking import MlflowClient\n",
    "from pprint import pprint\n",
    "import joblib\n",
    "import os\n",
    "\n",
    "os.chdir('/Users/dreambig/Seetha/Learning/ML/mlops')\n",
    "\n",
    "\n",
    "def log_production_model(config_path):\n",
    "    config = read_params(config_path)\n",
    "    \n",
    "    \n",
    "    mlflow_config = config[\"mlflow_config\"] \n",
    "    \n",
    "\n",
    "    model_name = mlflow_config[\"registered_model_name\"]\n",
    "\n",
    "\n",
    "    remote_server_uri = mlflow_config[\"remote_server_uri\"]\n",
    "\n",
    "    mlflow.set_tracking_uri(remote_server_uri)\n",
    "    \n",
    "    \n",
    "    runs = mlflow.search_runs(experiment_ids=1)\n",
    "    lowest = runs[\"metrics.mae\"].sort_values(ascending=True)[0]\n",
    "    lowest_run_id = runs[runs[\"metrics.mae\"] == lowest][\"run_id\"][0]\n",
    "    \n",
    "\n",
    "    client = MlflowClient()\n",
    "    for mv in client.search_model_versions(f\"name='{model_name}'\"):\n",
    "        mv = dict(mv)\n",
    "        print(mv, indent=4)\n",
    "        \n",
    "#         if mv[\"run_id\"] == lowest_run_id:\n",
    "#             current_version = mv[\"version\"]\n",
    "#             logged_model = mv[\"source\"]\n",
    "#             pprint(mv, indent=4)\n",
    "#             client.transition_model_version_stage(\n",
    "#                 name=model_name,\n",
    "#                 version=current_version,\n",
    "#                 stage=\"Production\"\n",
    "#             )\n",
    "#         else:\n",
    "#             current_version = mv[\"version\"]\n",
    "#             client.transition_model_version_stage(\n",
    "#                 name=model_name,\n",
    "#                 version=current_version,\n",
    "#                 stage=\"Staging\"\n",
    "#             )        \n",
    "\n",
    "\n",
    "#     loaded_model = mlflow.pyfunc.load_model(logged_model)\n",
    "    \n",
    "#     model_path = config[\"webapp_model_dir\"] #\"prediction_service/model\"\n",
    "\n",
    "#     joblib.dump(loaded_model, model_path)\n",
    "\n",
    "log_production_model(\"params.yaml\")"
   ]
  },
  {
   "cell_type": "code",
   "execution_count": null,
   "id": "fdcc693a-f664-4144-952b-710557c5ebb2",
   "metadata": {},
   "outputs": [],
   "source": []
  }
 ],
 "metadata": {
  "kernelspec": {
   "display_name": "Python 3 (ipykernel)",
   "language": "python",
   "name": "python3"
  },
  "language_info": {
   "codemirror_mode": {
    "name": "ipython",
    "version": 3
   },
   "file_extension": ".py",
   "mimetype": "text/x-python",
   "name": "python",
   "nbconvert_exporter": "python",
   "pygments_lexer": "ipython3",
   "version": "3.7.13"
  }
 },
 "nbformat": 4,
 "nbformat_minor": 5
}
